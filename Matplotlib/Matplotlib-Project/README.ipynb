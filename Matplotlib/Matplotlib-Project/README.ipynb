{
 "cells": [
  {
   "cell_type": "markdown",
   "metadata": {},
   "source": [
    "# Winning Wrestlers Entertainment\n",
    "\n",
    "*In this activity you will be taking four seperate csvs that were scraped down from a wrestling database, merging them together, and then creating charts to visualize a wrestler's wins and losses over the course of four years.*\n",
    "\n",
    "# Part 1 - Macho Merging\n",
    "You will likely need to perform three different merges over the course of this activity, changing the names of your columns as you go along.\n",
    "\n",
    "* Bring each CSV into a separate data frame\n",
    "\n",
    "* Merge the first two datasets (2013 and 2014) on \"Wrestler\" so that no data is lost (should be 182 rows)\n",
    "\n",
    "* Rename our _x columns to \"2013 Wins\", \"2013 Losses\", and \"2013 Draws\"\n",
    "\n",
    "* Rename our _y columns to \"2014 Wins\", \"2014 Losses\", and \"2014 Draws\"\n",
    "\n",
    "* Merge our newly combined dataframe with the 2015 dataframe\n",
    "\n",
    "* Rename \"wins\", \"losses\", and \"draws\" to \"2015 Wins\", \"2015 Losses\", and \"2015 Draws\"\n",
    "\n",
    "* Merge our newly combined dataframe with the 2016 dataframe\n",
    "\n",
    "* Rename \"wins\", \"losses\", and \"draws\" to \"2016 Wins\", \"2016 Losses\", and \"2016 Draws\"\n",
    "\n",
    "# Part 2 - Time to Calculate!\n",
    "When your tables have been merged together into one data frame, calculate the total number of wins, losses, and draws a wrestler has had over the course of their career. Also create a new column that will hold the total matches a wrestler has been in over the course of their career.\n",
    "\n",
    "* You will need to convert all NaN values to a number so that you can perform these calculations We are only interested in those wrestlers who have been with the WWE from 2013 to 2016. You will need to come up with some way of filtering out rows that do not meet these conditions.\n",
    "\n",
    "* Also set the 'Wrestler' column as your key for easier referencing later on.\n",
    "\n",
    "* Replace all NaN values with 0\n",
    "\n",
    "* Create a new column called \"Total Wins\" and add up each wrestler's wins per year to fillinthe values\n",
    "\n",
    "* Create a new column called \"Total Losses\" and add up each wrestler's losses per year to fill inthe values\n",
    "\n",
    "* Create a new column called \"Total Draws\" and add up each wrestler's draws per year to fill inthevalues\n",
    "\n",
    "* Create a new column called \"Total Matches\" and add up the total wins,losses,anddraws\n",
    "\n",
    "* Create a new dataframe for those wrestlers who have wrestled at least 100 matches,have at least one win in 2013,# and have at least one win in 2016\n",
    "\n",
    "# Part 3 - Charting Careers\n",
    "Store an individual wrestler's wins over time in a variable Store that same wrestler's losses over time in a variable as well Create a line chart that will plot this wrestler's wins and losses from 2013 to 2016\n",
    "\n",
    "* Collect the user's input to search through our data frame\n",
    "\n",
    "* Create a series that looks for a wrestler by name and then traces their wins from 2013 to 2016\n",
    "\n",
    "* Create a series that looks for a wrestler by name and then traces their losses from 2013 to 2016\n",
    "\n",
    "* Create a list of the years that we will use as our x axis\n",
    "\n",
    "* Plot our line that will be used to track a wrestler's wins over the years\n",
    "\n",
    "* Plot our line that will be used to track a wrestler's losses over the years\n",
    "\n",
    "* Place a legend on the chart in what matplotlib believes to be the \"best\" location"
   ]
  },
  {
   "cell_type": "code",
   "execution_count": null,
   "metadata": {},
   "outputs": [],
   "source": []
  }
 ],
 "metadata": {
  "kernelspec": {
   "display_name": "Python 3",
   "language": "python",
   "name": "python3"
  },
  "language_info": {
   "codemirror_mode": {
    "name": "ipython",
    "version": 3
   },
   "file_extension": ".py",
   "mimetype": "text/x-python",
   "name": "python",
   "nbconvert_exporter": "python",
   "pygments_lexer": "ipython3",
   "version": "3.8.3"
  }
 },
 "nbformat": 4,
 "nbformat_minor": 4
}
