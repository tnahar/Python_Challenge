{
 "cells": [
  {
   "cell_type": "code",
   "execution_count": null,
   "metadata": {},
   "outputs": [],
   "source": [
    "import csv\n",
    "import os\n",
    "\n",
    "path = (\"/Users/Taslemun/Python/Case Assignment /Resources/budget_data.csv\")\n",
    "output = (\"/Users/Taslemun/Python/Case Assignment \")\n",
    "budget_csv = os.path.join(path)\n",
    "total_months = []\n",
    "total = []\n",
    "average = []\n",
    "maxnumber = [] \n",
    "minnumber = []\n",
    "\n",
    "\n",
    "month = []\n",
    "total_months = 0\n",
    "month_of_change = []\n",
    "net_change_list = []\n",
    "greatest_increase = [\"\", 0]\n",
    "greatest_decrease = [\"\", 9999999999999999999]\n",
    "total_net = 0\n",
    "\n",
    "\n",
    "\n",
    "\n",
    "\n",
    "\n",
    "\n",
    "\n",
    "#%%\n",
    "print(\"Financial Analysis\")\n",
    "print(\"--------------------\")\n",
    "\n",
    "with open(budget_csv, 'r') as csv_file:\n",
    "\n",
    "    # Split the data on commas\n",
    "    csv_file = csv.reader(csv_file, delimiter=',')\n",
    "next(csv_file)\n",
    "with open(budget_csv, newline='', encoding='utf-8') as csvfile:\n",
    "    csvreader = csv.reader(csvfile, delimiter=\",\")\n",
    "    for row in csvreader:\n",
    "        profitlosse = row[1]\n",
    "        total = sum(profitlosse)\n",
    "        average = round(sum(profitlosse)/len(profitlosse), 2)\n",
    "        maxnumber = round(max(profitlosse), 2)\n",
    "        minnumber = round(min(profitlosse), 2)\n",
    "\n",
    "#Total Months:\n",
    "#Total:\n",
    "#Average Change:\n",
    "#Greatest Increase in Profits: \n",
    "#Greatest Decrease in Profits: "
   ]
  }
 ],
 "metadata": {
  "kernelspec": {
   "display_name": "Python 3",
   "language": "python",
   "name": "python3"
  },
  "language_info": {
   "codemirror_mode": {
    "name": "ipython",
    "version": 3
   },
   "file_extension": ".py",
   "mimetype": "text/x-python",
   "name": "python",
   "nbconvert_exporter": "python",
   "pygments_lexer": "ipython3",
   "version": "3.8.3"
  }
 },
 "nbformat": 4,
 "nbformat_minor": 4
}
